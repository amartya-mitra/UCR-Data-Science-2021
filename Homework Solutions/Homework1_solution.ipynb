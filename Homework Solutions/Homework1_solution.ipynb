{
  "nbformat": 4,
  "nbformat_minor": 0,
  "metadata": {
    "kernelspec": {
      "name": "python3",
      "display_name": "Python 3"
    },
    "colab": {
      "name": "Homework1-solution.ipynb",
      "provenance": [],
      "collapsed_sections": []
    }
  },
  "cells": [
    {
      "cell_type": "markdown",
      "metadata": {
        "id": "6cuxkqVaN4if"
      },
      "source": [
        "## PHYS247-Winter 2021: Homework 1 Solution"
      ]
    },
    {
      "cell_type": "markdown",
      "metadata": {
        "id": "wyMBEVdBiZhw"
      },
      "source": [
        "###TA: Amartya Mitra"
      ]
    },
    {
      "cell_type": "markdown",
      "metadata": {
        "id": "v0cGHNX_Rma0"
      },
      "source": [
        "#### How to insert an image in Colab\n",
        "\n",
        "```\n",
        "from google.colab import files\n",
        "from IPython import display\n",
        "\n",
        "uploaded = files.upload()\n",
        "\n",
        "display.Image(\"myimage.jpg\",\n",
        "              width=1000)\n",
        "```\n",
        "\n"
      ]
    },
    {
      "cell_type": "code",
      "metadata": {
        "id": "xTzBFon-N4ig"
      },
      "source": [
        "#Importing relevant libraries\n",
        "import numpy as np\n",
        "import matplotlib.pylab as plt\n",
        "from pylab import rcParams\n",
        "rcParams['font.family'] = 'serif'\n",
        "import time\n",
        "from numpy import linalg as LA\n",
        "import copy"
      ],
      "execution_count": null,
      "outputs": []
    },
    {
      "cell_type": "markdown",
      "metadata": {
        "id": "3Yq91wfkN4ih"
      },
      "source": [
        "### Part C)"
      ]
    },
    {
      "cell_type": "code",
      "metadata": {
        "id": "W-1LW3QTN4ih"
      },
      "source": [
        "Possible_move = {\n",
        "  0: [0,0,0,0,0,0,0,0,1,0],\n",
        "  1: [0,0,1,0,1,0,0,0,0,0],\n",
        "  2: [0,1,0,1,0,1,0,0,0,0],\n",
        "  3: [0,0,1,0,0,0,1,0,0,0],\n",
        "  4: [0,1,0,0,0,1,0,1,0,0],\n",
        "  5: [0,0,1,0,1,0,1,0,1,0],\n",
        "  6: [0,0,0,1,0,1,0,0,0,1],\n",
        "  7: [0,0,0,0,1,0,0,0,1,0],\n",
        "  8: [1,0,0,0,0,1,0,1,0,1],\n",
        "  9: [0,0,0,0,0,0,1,0,1,0],\n",
        "}"
      ],
      "execution_count": null,
      "outputs": []
    },
    {
      "cell_type": "code",
      "metadata": {
        "id": "anfH_6w5N4ii",
        "colab": {
          "base_uri": "https://localhost:8080/"
        },
        "outputId": "5fedaac4-f8ae-44af-af5a-e2390e0595ff"
      },
      "source": [
        "A=list(Possible_move.values())\n",
        "A"
      ],
      "execution_count": null,
      "outputs": [
        {
          "output_type": "execute_result",
          "data": {
            "text/plain": [
              "[[0, 0, 0, 0, 0, 0, 0, 0, 1, 0],\n",
              " [0, 0, 1, 0, 1, 0, 0, 0, 0, 0],\n",
              " [0, 1, 0, 1, 0, 1, 0, 0, 0, 0],\n",
              " [0, 0, 1, 0, 0, 0, 1, 0, 0, 0],\n",
              " [0, 1, 0, 0, 0, 1, 0, 1, 0, 0],\n",
              " [0, 0, 1, 0, 1, 0, 1, 0, 1, 0],\n",
              " [0, 0, 0, 1, 0, 1, 0, 0, 0, 1],\n",
              " [0, 0, 0, 0, 1, 0, 0, 0, 1, 0],\n",
              " [1, 0, 0, 0, 0, 1, 0, 1, 0, 1],\n",
              " [0, 0, 0, 0, 0, 0, 1, 0, 1, 0]]"
            ]
          },
          "metadata": {
            "tags": []
          },
          "execution_count": 3
        }
      ]
    },
    {
      "cell_type": "code",
      "metadata": {
        "id": "6t9fTYERN4ij"
      },
      "source": [
        "v=[[1],[1],[1],[1],[1],[1],[1],[1],[1],[1]]"
      ],
      "execution_count": null,
      "outputs": []
    },
    {
      "cell_type": "code",
      "metadata": {
        "id": "zQME6EsXN4ij"
      },
      "source": [
        "A_mat=np.matrix(A)\n",
        "v_mat=np.matrix(v)"
      ],
      "execution_count": null,
      "outputs": []
    },
    {
      "cell_type": "code",
      "metadata": {
        "id": "ek3Erh1VN4ij",
        "colab": {
          "base_uri": "https://localhost:8080/"
        },
        "outputId": "de4b89d1-6417-42b2-be3f-8716d90afe60"
      },
      "source": [
        "np.any(A_mat==A_mat.T)\n",
        "#np.array_equal(A_mat, A_mat.T)"
      ],
      "execution_count": null,
      "outputs": [
        {
          "output_type": "execute_result",
          "data": {
            "text/plain": [
              "True"
            ]
          },
          "metadata": {
            "tags": []
          },
          "execution_count": 6
        }
      ]
    },
    {
      "cell_type": "markdown",
      "metadata": {
        "id": "Omy-YExvN4ik"
      },
      "source": [
        "### Part d)"
      ]
    },
    {
      "cell_type": "code",
      "metadata": {
        "id": "73S95oqJN4ik"
      },
      "source": [
        "def DialerProblem(S,N,A_=A_mat[:],v_=v_mat[:]):\n",
        "    if N<2:\n",
        "        return ('N should be >1')\n",
        "    else:\n",
        "        A=A_*v_\n",
        "        t1=time.time()\n",
        "        for i in range(N-2):\n",
        "            A=A_*A\n",
        "        t2=time.time()\n",
        "    return (int(A[S]),(t2-t1)*1000)"
      ],
      "execution_count": null,
      "outputs": []
    },
    {
      "cell_type": "code",
      "metadata": {
        "id": "yyK-2cQVN4ik",
        "outputId": "568b275b-16e5-465e-881e-e55e94886cd0"
      },
      "source": [
        "print(\"DialerProblem(5,10)=\",DialerProblem(5,10)[0], \"and takes\" ,DialerProblem(5,10)[1], \"ms\")"
      ],
      "execution_count": null,
      "outputs": [
        {
          "output_type": "stream",
          "text": [
            "DialerProblem(5,10)= 18713 and takes 0.09608268737792969 ms\n"
          ],
          "name": "stdout"
        }
      ]
    },
    {
      "cell_type": "markdown",
      "metadata": {
        "id": "1Bs6h5dhN4il"
      },
      "source": [
        "### Part e)"
      ]
    },
    {
      "cell_type": "code",
      "metadata": {
        "id": "L__yF3MgN4il"
      },
      "source": [
        "def MatrixMulti(A,B):\n",
        "    \"\"\"\n",
        "    A function which computes matrix multiplication of the first \n",
        "    and second inputs. Inputs should be list-like.\n",
        "    \"\"\"\n",
        "    \n",
        "    if len(A[0])==len(B):\n",
        "        R=[[sum(x*y for x,y in zip(A_row,B_col)) for B_col in zip(*B)] for A_row in A]\n",
        "        return R\n",
        "    else: \n",
        "        print('Matrix dimensions do not match')"
      ],
      "execution_count": null,
      "outputs": []
    },
    {
      "cell_type": "code",
      "metadata": {
        "id": "meeudMydN4il"
      },
      "source": [
        "def DialerProblem_no_numpy(S,N,A_=A[:],v_=v[:]):\n",
        "    if N<2:\n",
        "        return ('N should be >1')\n",
        "    else:\n",
        "        A=MatrixMulti(A_,v_)\n",
        "        t1=time.time()\n",
        "        for i in range(N-2):\n",
        "            A=MatrixMulti(A_,A)\n",
        "        t2=time.time()\n",
        "    return (A[S][0],(t2-t1)*1000)"
      ],
      "execution_count": null,
      "outputs": []
    },
    {
      "cell_type": "code",
      "metadata": {
        "id": "zFhHywehN4il",
        "outputId": "3deba4fa-8084-4298-e4f9-843a288f12ce"
      },
      "source": [
        "print(\"DialerProblem_no_numpy(5,10)=\",DialerProblem_no_numpy(5,10)[0], \"and takes\" ,DialerProblem_no_numpy(5,10)[1], \"ms\")"
      ],
      "execution_count": null,
      "outputs": [
        {
          "output_type": "stream",
          "text": [
            "DialerProblem_no_numpy(5,10)= 18713 and takes 0.19788742065429688 ms\n"
          ],
          "name": "stdout"
        }
      ]
    },
    {
      "cell_type": "markdown",
      "metadata": {
        "id": "xWCuxQYiN4im"
      },
      "source": [
        "### Part f)"
      ]
    },
    {
      "cell_type": "code",
      "metadata": {
        "id": "dQk2MlUAN4im"
      },
      "source": [
        "N=np.arange(2,1001)\n",
        "T=[]\n",
        "for i in N:\n",
        "    T.append(DialerProblem(5, i)[1])"
      ],
      "execution_count": null,
      "outputs": []
    },
    {
      "cell_type": "code",
      "metadata": {
        "id": "fDYFX1d-N4im",
        "outputId": "4180c2ec-4f62-4d85-dd2b-9092e51719cc"
      },
      "source": [
        "  \n",
        "fig, ax = plt.subplots(1, 1,  figsize=(8.5,8.5))\n",
        "\n",
        "xmajor = np.arange(0,1100,100)\n",
        "xminor = np.arange(0,1100,10)\n",
        "\n",
        "ymajor = np.arange(-1,10,1)\n",
        "yminor = np.arange(-1,10,0.1)\n",
        "\n",
        "ax.set_xticks(xmajor)\n",
        "ax.set_xticks(xminor,minor=True)\n",
        "\n",
        "ax.set_yticks(ymajor)\n",
        "ax.set_yticks(yminor,minor=True)\n",
        "\n",
        "\n",
        "plt.plot(N,T)\n",
        "f_t=np.poly1d(np.polyfit(N,T,1))\n",
        "plt.plot(N,f_t(N),linewidth=5,c='red',alpha=0.6)\n",
        "\n",
        "ax.tick_params(which = 'major',direction='in',right='on',top='on',length=6,width=1.3,labelsize=16)\n",
        "ax.tick_params(which = 'minor',direction='in',right='on',top='on',length=3,width=0.5)\n",
        "ax.set_xlim(0,1000)\n",
        "ax.set_ylim(0,5)\n",
        "\n",
        "\n",
        "ax.set_ylabel('Execution Time (ms)',fontsize=20)\n",
        "ax.set_xlabel('N',fontsize=20)\n",
        "\n",
        "ax.tick_params(labelsize=15)\n",
        "plt.show()"
      ],
      "execution_count": null,
      "outputs": [
        {
          "output_type": "display_data",
          "data": {
            "image/png": "[encoded data removed]",
            "text/plain": [
              "<Figure size 612x612 with 1 Axes>"
            ]
          },
          "metadata": {
            "tags": [],
            "needs_background": "light"
          }
        }
      ]
    },
    {
      "cell_type": "markdown",
      "metadata": {
        "id": "6l_qIbVmN4in"
      },
      "source": [
        "### Part g)"
      ]
    },
    {
      "cell_type": "code",
      "metadata": {
        "id": "ao4KcF2xN4in",
        "outputId": "a564ee0e-445f-4fc4-8707-c5189d83de83"
      },
      "source": [
        "print(\"N=10000000 will take\",f_t(10e7)/1000/60,\" minutes\")"
      ],
      "execution_count": null,
      "outputs": [
        {
          "output_type": "stream",
          "text": [
            "N=10000000 will take 7.451219163688284  minutes\n"
          ],
          "name": "stdout"
        }
      ]
    },
    {
      "cell_type": "markdown",
      "metadata": {
        "id": "RPr3pfcHN4in"
      },
      "source": [
        "### Part h)"
      ]
    },
    {
      "cell_type": "code",
      "metadata": {
        "id": "BktuTb1pN4in"
      },
      "source": [
        "def dec2bin(x):\n",
        "        b=[]\n",
        "        while (x>0):\n",
        "            b.insert(0,x % 2)\n",
        "            x=x // 2            \n",
        "        return(b)"
      ],
      "execution_count": null,
      "outputs": []
    },
    {
      "cell_type": "markdown",
      "metadata": {
        "id": "DAzRjPPLN4in"
      },
      "source": [
        "### Part i)"
      ]
    },
    {
      "cell_type": "code",
      "metadata": {
        "id": "PPwQCjONN4io"
      },
      "source": [
        "def DialerProblem_binary(S,N,A_=A_mat[:],v_=v_mat[:]):\n",
        "    if N<2:\n",
        "        return ('N should be >1')\n",
        "    else:\n",
        "        Dummy=copy.deepcopy(A_)\n",
        "\n",
        "        if dec2bin(N-1)[-1]==1:\n",
        "            v_=A_*v_\n",
        "            \n",
        "        t1=time.time()\n",
        "        for i in reversed(dec2bin(N-1)[:-1]):\n",
        "            Dummy*=Dummy\n",
        "            if i==1:\n",
        "                v_=Dummy*v_\n",
        "        t2=time.time()\n",
        "    return (int(v_[S]),(t2-t1)*1000)"
      ],
      "execution_count": null,
      "outputs": []
    },
    {
      "cell_type": "code",
      "metadata": {
        "scrolled": true,
        "id": "cG6FC6E0N4io",
        "outputId": "29c33e37-6637-4b7c-a0ed-32710da46ed7"
      },
      "source": [
        "print(\"DialerProblem_binary(5,10)=\",DialerProblem_binary(5,10)[0], \"and takes\" ,DialerProblem_binary(5,10,A_mat,v_mat)[1], \"ms\")"
      ],
      "execution_count": null,
      "outputs": [
        {
          "output_type": "stream",
          "text": [
            "DialerProblem_binary(5,10)= 18713 and takes 0.07009506225585938 ms\n"
          ],
          "name": "stdout"
        }
      ]
    },
    {
      "cell_type": "markdown",
      "metadata": {
        "id": "AYiRBN6fN4io"
      },
      "source": [
        "### Part j)"
      ]
    },
    {
      "cell_type": "code",
      "metadata": {
        "id": "cDCNo2S0N4io"
      },
      "source": [
        "N=np.arange(2,1001)\n",
        "T=[]\n",
        "for i in N:\n",
        "    T.append(DialerProblem_binary(5, i)[1])"
      ],
      "execution_count": null,
      "outputs": []
    },
    {
      "cell_type": "code",
      "metadata": {
        "id": "8guMw1ccN4io",
        "outputId": "5a00e619-cdf1-45ca-b29c-2eae35300b27"
      },
      "source": [
        "fig, ax = plt.subplots(1, 1,  figsize=(8.5,8.5))\n",
        "\n",
        "xmajor = np.arange(0,1100,100)\n",
        "xminor = np.arange(0,1100,10)\n",
        "\n",
        "ymajor = np.arange(-1,10,0.1)\n",
        "yminor = np.arange(-1,10,0.01)\n",
        "\n",
        "ax.set_xticks(xmajor)\n",
        "ax.set_xticks(xminor,minor=True)\n",
        "\n",
        "ax.set_yticks(ymajor)\n",
        "ax.set_yticks(yminor,minor=True)\n",
        "\n",
        "\n",
        "plt.plot(N,T)\n",
        "f_t=np.poly1d(np.polyfit(np.log(N),T,1))\n",
        "plt.plot(N,f_t(np.log(N)),linewidth=5,c='red',alpha=0.6)\n",
        "\n",
        "ax.tick_params(which = 'major',direction='in',right='on',top='on',length=6,width=1.3,labelsize=16)\n",
        "ax.tick_params(which = 'minor',direction='in',right='on',top='on',length=3,width=0.5)\n",
        "ax.set_xlim(0,1000)\n",
        "\n",
        "\n",
        "ax.set_ylabel('Execution Time (ms)',fontsize=20)\n",
        "ax.set_xlabel('N',fontsize=20)\n",
        "\n",
        "ax.tick_params(labelsize=15)\n",
        "plt.show()"
      ],
      "execution_count": null,
      "outputs": [
        {
          "output_type": "display_data",
          "data": {
            "image/png": "[encoded data removed]",
            "text/plain": [
              "<Figure size 612x612 with 1 Axes>"
            ]
          },
          "metadata": {
            "tags": [],
            "needs_background": "light"
          }
        }
      ]
    },
    {
      "cell_type": "markdown",
      "metadata": {
        "id": "QigMPXH8N4ip"
      },
      "source": [
        "### Part k)"
      ]
    },
    {
      "cell_type": "code",
      "metadata": {
        "id": "yDRXsndwN4ip",
        "outputId": "08455165-ad3d-44b2-8c4f-6935e89147d9"
      },
      "source": [
        "print(\"N=10000000 will take\",f_t(np.log(10e7)),\"ms\")"
      ],
      "execution_count": null,
      "outputs": [
        {
          "output_type": "stream",
          "text": [
            "N=10000000 will take 0.33953820327735673 ms\n"
          ],
          "name": "stdout"
        }
      ]
    }
  ]
}