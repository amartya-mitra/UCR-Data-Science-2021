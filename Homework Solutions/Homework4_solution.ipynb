{
  "nbformat": 4,
  "nbformat_minor": 0,
  "metadata": {
    "kernelspec": {
      "display_name": "PHYS247",
      "language": "python",
      "name": "phys247"
    },
    "language_info": {
      "codemirror_mode": {
        "name": "ipython",
        "version": 3
      },
      "file_extension": ".py",
      "mimetype": "text/x-python",
      "name": "python",
      "nbconvert_exporter": "python",
      "pygments_lexer": "ipython3",
      "version": "3.8.2"
    },
    "colab": {
      "name": "Homework4-solution.ipynb",
      "provenance": [],
      "collapsed_sections": []
    }
  },
  "cells": [
    {
      "cell_type": "markdown",
      "metadata": {
        "id": "5ktwMW-twp-S"
      },
      "source": [
        "### PHYS247-Winter 2021: Homework 4 solution"
      ]
    },
    {
      "cell_type": "markdown",
      "metadata": {
        "id": "wUNiD6U9wp-a"
      },
      "source": [
        "### TA: Amartya Mitra"
      ]
    },
    {
      "cell_type": "code",
      "metadata": {
        "id": "vfYsozIjwp-b"
      },
      "source": [
        "import numpy as np\n",
        "import pandas as pd\n",
        "import matplotlib.pylab as plt\n",
        "from sklearn.model_selection import train_test_split\n",
        "from sklearn.metrics import classification_report,confusion_matrix,f1_score,precision_score,recall_score,accuracy_score\n",
        "from sklearn.preprocessing import MinMaxScaler\n",
        "from keras.models import Sequential\n",
        "from keras.layers import Dense,Dropout,Flatten\n",
        "from keras.utils import np_utils\n",
        "from keras.optimizers import Adam"
      ],
      "execution_count": null,
      "outputs": []
    },
    {
      "cell_type": "markdown",
      "metadata": {
        "id": "XQOoTYEm5QFc"
      },
      "source": [
        "##Importing the data file"
      ]
    },
    {
      "cell_type": "code",
      "metadata": {
        "id": "f76K6alSwp-c"
      },
      "source": [
        "Data=pd.read_csv('LendingClub.csv')"
      ],
      "execution_count": null,
      "outputs": []
    },
    {
      "cell_type": "markdown",
      "metadata": {
        "id": "cInSwXJ65Vsf"
      },
      "source": [
        "###Checking the column names of the imported data files. \"Dtype: object\" are string format data i.e. categorical"
      ]
    },
    {
      "cell_type": "code",
      "metadata": {
        "id": "MdRSHefywp-c",
        "outputId": "d1653376-d568-4a83-a9a7-ac5f760527d0"
      },
      "source": [
        "Data.info()"
      ],
      "execution_count": null,
      "outputs": [
        {
          "output_type": "stream",
          "text": [
            "<class 'pandas.core.frame.DataFrame'>\n",
            "RangeIndex: 395219 entries, 0 to 395218\n",
            "Data columns (total 23 columns):\n",
            " #   Column                Non-Null Count   Dtype  \n",
            "---  ------                --------------   -----  \n",
            " 0   loan_amnt             395219 non-null  float64\n",
            " 1   term                  395219 non-null  object \n",
            " 2   int_rate              395219 non-null  float64\n",
            " 3   installment           395219 non-null  float64\n",
            " 4   grade                 395219 non-null  object \n",
            " 5   sub_grade             395219 non-null  object \n",
            " 6   home_ownership        395219 non-null  object \n",
            " 7   annual_inc            395219 non-null  float64\n",
            " 8   verification_status   395219 non-null  object \n",
            " 9   loan_status           395219 non-null  object \n",
            " 10  purpose               395219 non-null  object \n",
            " 11  dti                   395219 non-null  float64\n",
            " 12  earliest_cr_line      395219 non-null  object \n",
            " 13  open_acc              395219 non-null  float64\n",
            " 14  pub_rec               395219 non-null  float64\n",
            " 15  revol_bal             395219 non-null  float64\n",
            " 16  revol_util            395219 non-null  float64\n",
            " 17  total_acc             395219 non-null  float64\n",
            " 18  initial_list_status   395219 non-null  object \n",
            " 19  application_type      395219 non-null  object \n",
            " 20  mort_acc              395219 non-null  float64\n",
            " 21  pub_rec_bankruptcies  395219 non-null  float64\n",
            " 22  address               395219 non-null  object \n",
            "dtypes: float64(12), object(11)\n",
            "memory usage: 69.4+ MB\n"
          ],
          "name": "stdout"
        }
      ]
    },
    {
      "cell_type": "markdown",
      "metadata": {
        "id": "hFYdo2KHwp-e"
      },
      "source": [
        "Is there a missing value in the imported dataset?"
      ]
    },
    {
      "cell_type": "code",
      "metadata": {
        "id": "9byixYhzwp-e",
        "outputId": "7b930851-38f4-46be-8f89-79d809a171ac"
      },
      "source": [
        "Data.isnull().sum()"
      ],
      "execution_count": null,
      "outputs": [
        {
          "output_type": "execute_result",
          "data": {
            "text/plain": [
              "loan_amnt               0\n",
              "term                    0\n",
              "int_rate                0\n",
              "installment             0\n",
              "grade                   0\n",
              "sub_grade               0\n",
              "home_ownership          0\n",
              "annual_inc              0\n",
              "verification_status     0\n",
              "loan_status             0\n",
              "purpose                 0\n",
              "dti                     0\n",
              "earliest_cr_line        0\n",
              "open_acc                0\n",
              "pub_rec                 0\n",
              "revol_bal               0\n",
              "revol_util              0\n",
              "total_acc               0\n",
              "initial_list_status     0\n",
              "application_type        0\n",
              "mort_acc                0\n",
              "pub_rec_bankruptcies    0\n",
              "address                 0\n",
              "dtype: int64"
            ]
          },
          "metadata": {
            "tags": []
          },
          "execution_count": 4
        }
      ]
    },
    {
      "cell_type": "markdown",
      "metadata": {
        "id": "QFY8Or2nwp-f"
      },
      "source": [
        "So, we have no missing values in this dataset. "
      ]
    },
    {
      "cell_type": "markdown",
      "metadata": {
        "id": "KduNOr2zwp-f"
      },
      "source": [
        "The target variable in this problem is \"loan_status\" which is categorical data. We will use integer encoding through the \"get_dummies()\" function of Pandas to transform this data into numerical data. We will also drop the first dummy variable since it can be inferred from other variables."
      ]
    },
    {
      "cell_type": "code",
      "metadata": {
        "id": "yHNj6pXMwp-g"
      },
      "source": [
        "Data['loan_status']=pd.get_dummies(Data['loan_status'],drop_first=True)"
      ],
      "execution_count": null,
      "outputs": []
    },
    {
      "cell_type": "markdown",
      "metadata": {
        "id": "7DmwfVbywp-h"
      },
      "source": [
        "Extract number of months from \"term\" column. Original data is in string format. The \"apply\" function acts on the \"term\" column of the Data to extract out the number of months in a \"int\" format."
      ]
    },
    {
      "cell_type": "code",
      "metadata": {
        "id": "RxHIEMiHwp-h"
      },
      "source": [
        "Data['term'] = Data['term'].apply(lambda term: int(term[:3])).astype('int64')"
      ],
      "execution_count": null,
      "outputs": []
    },
    {
      "cell_type": "markdown",
      "metadata": {
        "id": "xtj2WFrXwp-h"
      },
      "source": [
        "Extract zipcode from \"address\" column. Original data is in string format. Last 5 characters of string contains the zip-code. The \"apply\" function again extracts out those 5 digits using :-5 convention, and returns and integer value."
      ]
    },
    {
      "cell_type": "code",
      "metadata": {
        "id": "iHDSVuh2wp-i"
      },
      "source": [
        "Data['address'] = Data['address'].apply(lambda address:address[-5:])"
      ],
      "execution_count": null,
      "outputs": []
    },
    {
      "cell_type": "markdown",
      "metadata": {
        "id": "9SXrwYOywp-i"
      },
      "source": [
        "Extract the year of first credit account from 'earliest_cr_line' column."
      ]
    },
    {
      "cell_type": "code",
      "metadata": {
        "id": "lfiYz1lUwp-i"
      },
      "source": [
        "Data['earliest_cr_line'] = Data['earliest_cr_line'].apply(lambda year:year[-4:]).astype('int64')"
      ],
      "execution_count": null,
      "outputs": []
    },
    {
      "cell_type": "markdown",
      "metadata": {
        "id": "aNJqAeG7wp-j"
      },
      "source": [
        "Use integer encoding for all other categorical variables."
      ]
    },
    {
      "cell_type": "markdown",
      "metadata": {
        "id": "dj4gUGTlwp-j"
      },
      "source": [
        "The information in grade column is already embedded in sub-grade column.  So, we can drop this column from the features."
      ]
    },
    {
      "cell_type": "code",
      "metadata": {
        "id": "uExqXn72wp-j"
      },
      "source": [
        "Data = Data.drop('grade',axis=1)"
      ],
      "execution_count": null,
      "outputs": []
    },
    {
      "cell_type": "code",
      "metadata": {
        "id": "xPFM-UNqwp-j"
      },
      "source": [
        "Data = pd.concat([Data,pd.get_dummies(Data.select_dtypes(include=['object']),drop_first=True)],axis=1)"
      ],
      "execution_count": null,
      "outputs": []
    },
    {
      "cell_type": "code",
      "metadata": {
        "id": "FWIK5Mcdwp-k"
      },
      "source": [
        "Data = Data.drop(Data.select_dtypes(include=['object']).columns,axis=1)"
      ],
      "execution_count": null,
      "outputs": []
    },
    {
      "cell_type": "code",
      "metadata": {
        "id": "L_iQxRttwp-k",
        "outputId": "94ac5bbd-34d6-49a5-c014-11ea7343b33c"
      },
      "source": [
        "Data.info()"
      ],
      "execution_count": null,
      "outputs": [
        {
          "output_type": "stream",
          "text": [
            "<class 'pandas.core.frame.DataFrame'>\n",
            "RangeIndex: 395219 entries, 0 to 395218\n",
            "Data columns (total 81 columns):\n",
            " #   Column                               Non-Null Count   Dtype  \n",
            "---  ------                               --------------   -----  \n",
            " 0   loan_amnt                            395219 non-null  float64\n",
            " 1   term                                 395219 non-null  int64  \n",
            " 2   int_rate                             395219 non-null  float64\n",
            " 3   installment                          395219 non-null  float64\n",
            " 4   annual_inc                           395219 non-null  float64\n",
            " 5   loan_status                          395219 non-null  uint8  \n",
            " 6   dti                                  395219 non-null  float64\n",
            " 7   earliest_cr_line                     395219 non-null  int64  \n",
            " 8   open_acc                             395219 non-null  float64\n",
            " 9   pub_rec                              395219 non-null  float64\n",
            " 10  revol_bal                            395219 non-null  float64\n",
            " 11  revol_util                           395219 non-null  float64\n",
            " 12  total_acc                            395219 non-null  float64\n",
            " 13  mort_acc                             395219 non-null  float64\n",
            " 14  pub_rec_bankruptcies                 395219 non-null  float64\n",
            " 15  sub_grade_A2                         395219 non-null  uint8  \n",
            " 16  sub_grade_A3                         395219 non-null  uint8  \n",
            " 17  sub_grade_A4                         395219 non-null  uint8  \n",
            " 18  sub_grade_A5                         395219 non-null  uint8  \n",
            " 19  sub_grade_B1                         395219 non-null  uint8  \n",
            " 20  sub_grade_B2                         395219 non-null  uint8  \n",
            " 21  sub_grade_B3                         395219 non-null  uint8  \n",
            " 22  sub_grade_B4                         395219 non-null  uint8  \n",
            " 23  sub_grade_B5                         395219 non-null  uint8  \n",
            " 24  sub_grade_C1                         395219 non-null  uint8  \n",
            " 25  sub_grade_C2                         395219 non-null  uint8  \n",
            " 26  sub_grade_C3                         395219 non-null  uint8  \n",
            " 27  sub_grade_C4                         395219 non-null  uint8  \n",
            " 28  sub_grade_C5                         395219 non-null  uint8  \n",
            " 29  sub_grade_D1                         395219 non-null  uint8  \n",
            " 30  sub_grade_D2                         395219 non-null  uint8  \n",
            " 31  sub_grade_D3                         395219 non-null  uint8  \n",
            " 32  sub_grade_D4                         395219 non-null  uint8  \n",
            " 33  sub_grade_D5                         395219 non-null  uint8  \n",
            " 34  sub_grade_E1                         395219 non-null  uint8  \n",
            " 35  sub_grade_E2                         395219 non-null  uint8  \n",
            " 36  sub_grade_E3                         395219 non-null  uint8  \n",
            " 37  sub_grade_E4                         395219 non-null  uint8  \n",
            " 38  sub_grade_E5                         395219 non-null  uint8  \n",
            " 39  sub_grade_F1                         395219 non-null  uint8  \n",
            " 40  sub_grade_F2                         395219 non-null  uint8  \n",
            " 41  sub_grade_F3                         395219 non-null  uint8  \n",
            " 42  sub_grade_F4                         395219 non-null  uint8  \n",
            " 43  sub_grade_F5                         395219 non-null  uint8  \n",
            " 44  sub_grade_G1                         395219 non-null  uint8  \n",
            " 45  sub_grade_G2                         395219 non-null  uint8  \n",
            " 46  sub_grade_G3                         395219 non-null  uint8  \n",
            " 47  sub_grade_G4                         395219 non-null  uint8  \n",
            " 48  sub_grade_G5                         395219 non-null  uint8  \n",
            " 49  home_ownership_MORTGAGE              395219 non-null  uint8  \n",
            " 50  home_ownership_NONE                  395219 non-null  uint8  \n",
            " 51  home_ownership_OTHER                 395219 non-null  uint8  \n",
            " 52  home_ownership_OWN                   395219 non-null  uint8  \n",
            " 53  home_ownership_RENT                  395219 non-null  uint8  \n",
            " 54  verification_status_Source Verified  395219 non-null  uint8  \n",
            " 55  verification_status_Verified         395219 non-null  uint8  \n",
            " 56  purpose_credit_card                  395219 non-null  uint8  \n",
            " 57  purpose_debt_consolidation           395219 non-null  uint8  \n",
            " 58  purpose_educational                  395219 non-null  uint8  \n",
            " 59  purpose_home_improvement             395219 non-null  uint8  \n",
            " 60  purpose_house                        395219 non-null  uint8  \n",
            " 61  purpose_major_purchase               395219 non-null  uint8  \n",
            " 62  purpose_medical                      395219 non-null  uint8  \n",
            " 63  purpose_moving                       395219 non-null  uint8  \n",
            " 64  purpose_other                        395219 non-null  uint8  \n",
            " 65  purpose_renewable_energy             395219 non-null  uint8  \n",
            " 66  purpose_small_business               395219 non-null  uint8  \n",
            " 67  purpose_vacation                     395219 non-null  uint8  \n",
            " 68  purpose_wedding                      395219 non-null  uint8  \n",
            " 69  initial_list_status_w                395219 non-null  uint8  \n",
            " 70  application_type_INDIVIDUAL          395219 non-null  uint8  \n",
            " 71  application_type_JOINT               395219 non-null  uint8  \n",
            " 72  address_05113                        395219 non-null  uint8  \n",
            " 73  address_11650                        395219 non-null  uint8  \n",
            " 74  address_22690                        395219 non-null  uint8  \n",
            " 75  address_29597                        395219 non-null  uint8  \n",
            " 76  address_30723                        395219 non-null  uint8  \n",
            " 77  address_48052                        395219 non-null  uint8  \n",
            " 78  address_70466                        395219 non-null  uint8  \n",
            " 79  address_86630                        395219 non-null  uint8  \n",
            " 80  address_93700                        395219 non-null  uint8  \n",
            "dtypes: float64(12), int64(2), uint8(67)\n",
            "memory usage: 67.5 MB\n"
          ],
          "name": "stdout"
        }
      ]
    },
    {
      "cell_type": "markdown",
      "metadata": {
        "id": "akTXzZyswp-l"
      },
      "source": [
        "Now, let's define input and output variables: (selecting all data columns barring 'loan_status' to be X and the 'loan_status' to be the labels y)"
      ]
    },
    {
      "cell_type": "code",
      "metadata": {
        "id": "iocUT9knwp-l"
      },
      "source": [
        "X = Data.drop('loan_status',axis=1).values\n",
        "y = Data['loan_status'].values"
      ],
      "execution_count": null,
      "outputs": []
    },
    {
      "cell_type": "markdown",
      "metadata": {
        "id": "duS38bfQHOst"
      },
      "source": [
        "Perfoming a split of the X & y variables above to generate the train and test data."
      ]
    },
    {
      "cell_type": "code",
      "metadata": {
        "id": "kue2_3bZwp-m"
      },
      "source": [
        "X_train, X_test, y_train, y_test = train_test_split(X, y, test_size=0.3, random_state=101)"
      ],
      "execution_count": null,
      "outputs": []
    },
    {
      "cell_type": "markdown",
      "metadata": {
        "id": "mpOA6b2xwp-m"
      },
      "source": [
        "Data normalization: (This is only done on the X data. Why? Different data aspects or \"features\" can have different scales which hurts predictive performace. The normalization helps in making them uniform for better prediction)"
      ]
    },
    {
      "cell_type": "code",
      "metadata": {
        "id": "x4zCqU8wwp-m"
      },
      "source": [
        "scaler = MinMaxScaler()"
      ],
      "execution_count": null,
      "outputs": []
    },
    {
      "cell_type": "markdown",
      "metadata": {
        "id": "VfxzSr2XMjMH"
      },
      "source": [
        "The scaler.fit_transform() determines the \"normalization constants\" μ and σ, from the training data set and normalizes the same accordingly. The scaler.transform() reuses the above found μ and σ to normalize the test data rather than re-computing them freshly for the test set."
      ]
    },
    {
      "cell_type": "code",
      "metadata": {
        "id": "wyv0n9jHwp-n"
      },
      "source": [
        "X_train = scaler.fit_transform(X_train)\n",
        "X_test = scaler.transform(X_test)"
      ],
      "execution_count": null,
      "outputs": []
    },
    {
      "cell_type": "code",
      "metadata": {
        "id": "u3z4dDEewp-n",
        "outputId": "9cb6f120-17a2-4440-be63-042cc5fefac2"
      },
      "source": [
        "X_train.shape[1]"
      ],
      "execution_count": null,
      "outputs": [
        {
          "output_type": "execute_result",
          "data": {
            "text/plain": [
              "80"
            ]
          },
          "metadata": {
            "tags": []
          },
          "execution_count": 17
        }
      ]
    },
    {
      "cell_type": "markdown",
      "metadata": {
        "id": "lryA5indwp-n"
      },
      "source": [
        "Building a neural network model:\n",
        "The Sequential() command specifies this is a feed-forward network, other options can be Convolutional, RNNs etc. The Dense() command specifies all the neural network to be fully connected. Dropout() is a regularization technique which prevents over-fitting to training data. Adam is a specific optimizer choice in neural networks, other options are sgd (stochastic gradient descent), rmsprop etc."
      ]
    },
    {
      "cell_type": "code",
      "metadata": {
        "id": "cdGZ_43Jwp-o"
      },
      "source": [
        "model=Sequential()\n",
        "\n",
        "model.add(Dense(X_train.shape[1],  activation='relu'))\n",
        "model.add(Dropout(0.25))\n",
        "model.add(Dense(100, activation='relu'))\n",
        "model.add(Dropout(0.25))\n",
        "model.add(Dense(50, activation='relu'))\n",
        "model.add(Dropout(0.25))\n",
        "model.add(Dense(units=1,activation='sigmoid'))\n",
        "\n",
        "model.compile(optimizer='adam',loss='binary_crossentropy',metrics=['accuracy'])"
      ],
      "execution_count": null,
      "outputs": []
    },
    {
      "cell_type": "code",
      "metadata": {
        "id": "Qrdu_rG1wp-o",
        "outputId": "1570b609-c982-493e-c881-47ad8dc119ee"
      },
      "source": [
        "model.fit(x=X_train,y=y_train,validation_data=(X_test,y_test),batch_size=32,epochs=10)"
      ],
      "execution_count": null,
      "outputs": [
        {
          "output_type": "stream",
          "text": [
            "Train on 276653 samples, validate on 118566 samples\n",
            "Epoch 1/10\n",
            "276653/276653 [==============================] - 18s 67us/step - loss: 0.2746 - accuracy: 0.8862 - val_loss: 0.2632 - val_accuracy: 0.8869\n",
            "Epoch 2/10\n",
            "276653/276653 [==============================] - 17s 62us/step - loss: 0.2628 - accuracy: 0.8885 - val_loss: 0.2630 - val_accuracy: 0.8869\n",
            "Epoch 3/10\n",
            "276653/276653 [==============================] - 17s 61us/step - loss: 0.2616 - accuracy: 0.8884 - val_loss: 0.2630 - val_accuracy: 0.8869\n",
            "Epoch 4/10\n",
            "276653/276653 [==============================] - 14s 50us/step - loss: 0.2612 - accuracy: 0.8883 - val_loss: 0.2618 - val_accuracy: 0.8875\n",
            "Epoch 5/10\n",
            "276653/276653 [==============================] - 14s 52us/step - loss: 0.2607 - accuracy: 0.8884 - val_loss: 0.2619 - val_accuracy: 0.8875\n",
            "Epoch 6/10\n",
            "276653/276653 [==============================] - 17s 62us/step - loss: 0.2603 - accuracy: 0.8884 - val_loss: 0.2624 - val_accuracy: 0.8869\n",
            "Epoch 7/10\n",
            "276653/276653 [==============================] - 16s 59us/step - loss: 0.2604 - accuracy: 0.8885 - val_loss: 0.2621 - val_accuracy: 0.8870\n",
            "Epoch 8/10\n",
            "276653/276653 [==============================] - 14s 52us/step - loss: 0.2599 - accuracy: 0.8886 - val_loss: 0.2617 - val_accuracy: 0.8878\n",
            "Epoch 9/10\n",
            "276653/276653 [==============================] - 16s 58us/step - loss: 0.2600 - accuracy: 0.8884 - val_loss: 0.2620 - val_accuracy: 0.8869\n",
            "Epoch 10/10\n",
            "276653/276653 [==============================] - 19s 67us/step - loss: 0.2596 - accuracy: 0.8886 - val_loss: 0.2617 - val_accuracy: 0.8872\n"
          ],
          "name": "stdout"
        },
        {
          "output_type": "execute_result",
          "data": {
            "text/plain": [
              "<keras.callbacks.callbacks.History at 0x14546b970>"
            ]
          },
          "metadata": {
            "tags": []
          },
          "execution_count": 29
        }
      ]
    },
    {
      "cell_type": "code",
      "metadata": {
        "id": "-SLKYQEgwp-o",
        "outputId": "5009ed74-d566-40e3-e469-14a44f72ab7d"
      },
      "source": [
        "history=pd.DataFrame(model.history.history)\n",
        "history[['loss','val_loss']].plot()"
      ],
      "execution_count": null,
      "outputs": [
        {
          "output_type": "execute_result",
          "data": {
            "text/plain": [
              "<matplotlib.axes._subplots.AxesSubplot at 0x14160c760>"
            ]
          },
          "metadata": {
            "tags": []
          },
          "execution_count": 20
        },
        {
          "output_type": "display_data",
          "data": {
            "image/png": "[encoded data removed]",
            "text/plain": [
              "<Figure size 432x288 with 1 Axes>"
            ]
          },
          "metadata": {
            "tags": [],
            "needs_background": "light"
          }
        }
      ]
    },
    {
      "cell_type": "code",
      "metadata": {
        "id": "8Acw1wiNwp-q"
      },
      "source": [
        "predictions = model.predict_classes(X_test)"
      ],
      "execution_count": null,
      "outputs": []
    },
    {
      "cell_type": "markdown",
      "metadata": {
        "id": "siAHPW6bP_x3"
      },
      "source": [
        "Confusion Matrix: Composed of True Positive, False Positive, True Negative and False Negative"
      ]
    },
    {
      "cell_type": "code",
      "metadata": {
        "id": "h-eQCRgEwp-q",
        "outputId": "4cd58e36-04dc-4ebd-eaf5-67282f1784dd"
      },
      "source": [
        "print('confusion_matrix=\\n',confusion_matrix(y_test,predictions))"
      ],
      "execution_count": null,
      "outputs": [
        {
          "output_type": "stream",
          "text": [
            "confusion_matrix=\n",
            " [[10320 13043]\n",
            " [  279 94924]]\n"
          ],
          "name": "stdout"
        }
      ]
    },
    {
      "cell_type": "markdown",
      "metadata": {
        "id": "V-XXc6DgQSIW"
      },
      "source": [
        "Accuracy: $$\\frac{\\text{True Positive} + \\text{True Negative}}{\\text{True Positive} + \\text{True Negative} + \\text{False Positive} + \\text{False Negative}}$$"
      ]
    },
    {
      "cell_type": "code",
      "metadata": {
        "id": "RnLXjFgNwp-q",
        "outputId": "54f1fb05-3929-48aa-e653-26c685a77566"
      },
      "source": [
        "print('accuracy_score=',accuracy_score(y_test,predictions))"
      ],
      "execution_count": null,
      "outputs": [
        {
          "output_type": "stream",
          "text": [
            "accuracy_score= 0.887640638969013\n"
          ],
          "name": "stdout"
        }
      ]
    },
    {
      "cell_type": "markdown",
      "metadata": {
        "id": "vkxAOJ6YQ3YU"
      },
      "source": [
        "Recall: $$\\frac{\\text{True Positive}}{\\text{True Positive} + \\text{False Negative}}$$"
      ]
    },
    {
      "cell_type": "code",
      "metadata": {
        "id": "CjQ-8pAGwp-q",
        "outputId": "4111954c-d96a-4a29-c9bb-e30511ce9dc2"
      },
      "source": [
        "print('recall_score=',recall_score(y_test,predictions))"
      ],
      "execution_count": null,
      "outputs": [
        {
          "output_type": "stream",
          "text": [
            "recall_score= 0.9970694200813\n"
          ],
          "name": "stdout"
        }
      ]
    },
    {
      "cell_type": "markdown",
      "metadata": {
        "id": "1HDM4L2jRtib"
      },
      "source": [
        "$$F_1\\text{ score} = 2\\frac{\\text{precision}\\cdot\\text{recall}}{\\text{precision}+\\text{recall}}$$"
      ]
    },
    {
      "cell_type": "code",
      "metadata": {
        "id": "CdZf0tP0wp-r",
        "outputId": "66e1b2e4-1e3f-48d2-9051-317ddf5d8b0b"
      },
      "source": [
        "print('f1_score=',f1_score(y_test,predictions))"
      ],
      "execution_count": null,
      "outputs": [
        {
          "output_type": "stream",
          "text": [
            "f1_score= 0.9344292956637299\n"
          ],
          "name": "stdout"
        }
      ]
    },
    {
      "cell_type": "markdown",
      "metadata": {
        "id": "vdZ7dTfqRa2V"
      },
      "source": [
        "Precision: $$\\frac{\\text{True Positive}}{\\text{True Positive} + \\text{False Positive}}$$"
      ]
    },
    {
      "cell_type": "code",
      "metadata": {
        "id": "eWJK6v9Vwp-r",
        "outputId": "be5a3cec-13f3-40c3-8a81-254622931dbf"
      },
      "source": [
        "print('precision_score=',precision_score(y_test,predictions))"
      ],
      "execution_count": null,
      "outputs": [
        {
          "output_type": "stream",
          "text": [
            "precision_score= 0.8791945687108098\n"
          ],
          "name": "stdout"
        }
      ]
    },
    {
      "cell_type": "markdown",
      "metadata": {
        "id": "l2gp3vIJwp-s"
      },
      "source": [
        "or we can get the full report using \"classification_report\" of sklearn."
      ]
    },
    {
      "cell_type": "code",
      "metadata": {
        "id": "nglPJd3zwp-s",
        "outputId": "9592e900-094d-4fd9-c6d8-8d034e3c6c04"
      },
      "source": [
        "print(classification_report(y_test,predictions))"
      ],
      "execution_count": null,
      "outputs": [
        {
          "output_type": "stream",
          "text": [
            "              precision    recall  f1-score   support\n",
            "\n",
            "           0       0.97      0.44      0.61     23363\n",
            "           1       0.88      1.00      0.93     95203\n",
            "\n",
            "    accuracy                           0.89    118566\n",
            "   macro avg       0.93      0.72      0.77    118566\n",
            "weighted avg       0.90      0.89      0.87    118566\n",
            "\n"
          ],
          "name": "stdout"
        }
      ]
    }
  ]
}