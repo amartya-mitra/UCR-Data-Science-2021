{
  "nbformat": 4,
  "nbformat_minor": 0,
  "metadata": {
    "kernelspec": {
      "display_name": "PHYS247",
      "language": "python",
      "name": "phys247"
    },
    "language_info": {
      "codemirror_mode": {
        "name": "ipython",
        "version": 3
      },
      "file_extension": ".py",
      "mimetype": "text/x-python",
      "name": "python",
      "nbconvert_exporter": "python",
      "pygments_lexer": "ipython3",
      "version": "3.8.2"
    },
    "colab": {
      "name": "Homework2-solution.ipynb",
      "provenance": [],
      "collapsed_sections": []
    }
  },
  "cells": [
    {
      "cell_type": "markdown",
      "metadata": {
        "id": "TD59ypqI5Bax"
      },
      "source": [
        "## PHYS247-Winter 2021: Homework 2 Solution"
      ]
    },
    {
      "cell_type": "markdown",
      "metadata": {
        "id": "BE7ZSwHW5Ba4"
      },
      "source": [
        "### TA: Amartya Mitra"
      ]
    },
    {
      "cell_type": "code",
      "metadata": {
        "id": "92w3RLvJ5Ba5"
      },
      "source": [
        "import numpy as np\n",
        "import matplotlib.pylab as plt\n",
        "import pandas as pd\n",
        "from scipy.stats import poisson\n",
        "from numpy import linalg as LA\n",
        "plt.rc('font', family='serif', size='15')"
      ],
      "execution_count": 5,
      "outputs": []
    },
    {
      "cell_type": "markdown",
      "metadata": {
        "id": "qu4plk5_5Ba6"
      },
      "source": [
        "Let's read the tweet_count data:"
      ]
    },
    {
      "cell_type": "markdown",
      "metadata": {
        "id": "DlZ8Ye8Z5Ba6"
      },
      "source": [
        "## a)"
      ]
    },
    {
      "cell_type": "code",
      "metadata": {
        "id": "CJq8VvPV5Ba7"
      },
      "source": [
        "data=pd.read_csv('tweet_counts.csv')"
      ],
      "execution_count": null,
      "outputs": []
    },
    {
      "cell_type": "code",
      "metadata": {
        "colab": {
          "base_uri": "https://localhost:8080/",
          "height": 173
        },
        "id": "zByEDxs65Ba7",
        "outputId": "e1167723-5990-4fe4-80a6-7705cc9f5df5"
      },
      "source": [
        "data.head(4)"
      ],
      "execution_count": null,
      "outputs": [
        {
          "output_type": "execute_result",
          "data": {
            "text/html": [
              "<div>\n",
              "<style scoped>\n",
              "    .dataframe tbody tr th:only-of-type {\n",
              "        vertical-align: middle;\n",
              "    }\n",
              "\n",
              "    .dataframe tbody tr th {\n",
              "        vertical-align: top;\n",
              "    }\n",
              "\n",
              "    .dataframe thead th {\n",
              "        text-align: right;\n",
              "    }\n",
              "</style>\n",
              "<table border=\"1\" class=\"dataframe\">\n",
              "  <thead>\n",
              "    <tr style=\"text-align: right;\">\n",
              "      <th></th>\n",
              "      <th>week</th>\n",
              "      <th>count</th>\n",
              "    </tr>\n",
              "  </thead>\n",
              "  <tbody>\n",
              "    <tr>\n",
              "      <th>0</th>\n",
              "      <td>1</td>\n",
              "      <td>39.0</td>\n",
              "    </tr>\n",
              "    <tr>\n",
              "      <th>1</th>\n",
              "      <td>2</td>\n",
              "      <td>46.0</td>\n",
              "    </tr>\n",
              "    <tr>\n",
              "      <th>2</th>\n",
              "      <td>3</td>\n",
              "      <td>41.0</td>\n",
              "    </tr>\n",
              "    <tr>\n",
              "      <th>3</th>\n",
              "      <td>4</td>\n",
              "      <td>42.0</td>\n",
              "    </tr>\n",
              "  </tbody>\n",
              "</table>\n",
              "</div>"
            ],
            "text/plain": [
              "   week  count\n",
              "0     1   39.0\n",
              "1     2   46.0\n",
              "2     3   41.0\n",
              "3     4   42.0"
            ]
          },
          "metadata": {
            "tags": []
          },
          "execution_count": 3
        }
      ]
    },
    {
      "cell_type": "markdown",
      "metadata": {
        "id": "Ti9N0ku05Ba9"
      },
      "source": [
        "Let's create two variables (k and w) which show tweet counts and the number of week"
      ]
    },
    {
      "cell_type": "code",
      "metadata": {
        "id": "ae1SsLJU5Ba9"
      },
      "source": [
        "k=data['count'].values\n",
        "w=data['week'].values"
      ],
      "execution_count": null,
      "outputs": []
    },
    {
      "cell_type": "markdown",
      "metadata": {
        "id": "nK-TJzHK5Ba-"
      },
      "source": [
        "## b)"
      ]
    },
    {
      "cell_type": "code",
      "metadata": {
        "id": "ckf9mc-c5Ba-",
        "colab": {
          "base_uri": "https://localhost:8080/",
          "height": 271
        },
        "outputId": "e3ae5171-598b-4e0c-c688-c7ac0f53dae1"
      },
      "source": [
        "fig, ax = plt.subplots(1,1,  figsize=(18.5,4.5))\n",
        "\n",
        "xmajor = np.arange(0,53,4)\n",
        "xminor = np.arange(0,53,1)\n",
        "\n",
        "ymajor = np.arange(0,55,10)\n",
        "yminor = np.arange(0,55,2)\n",
        "\n",
        "ax.set_xticks(xmajor)\n",
        "ax.set_xticks(xminor,minor=True)\n",
        "ax.set_yticks(ymajor)\n",
        "ax.set_yticks(yminor,minor=True)\n",
        "\n",
        "\n",
        "ax.bar(w,k,edgecolor='black')\n",
        "ax.set_xlim(0.001,53)\n",
        "ax.tick_params(which = 'major',direction='in',right='on',top='on',length=6,width=1.3,labelsize=16)\n",
        "ax.tick_params(which = 'minor',direction='in',right='on',top='on',length=3,width=0.5)\n",
        "\n",
        "plt.axhline(np.mean(k),-1,54,c='red',linestyle='--',linewidth=4,alpha=0.5)\n",
        "ax.set_ylabel('Number of tweets',fontsize=20)\n",
        "ax.set_xlabel('Week',fontsize=20)\n",
        "# plt.savefig('tweets.png',dpi=200)"
      ],
      "execution_count": null,
      "outputs": [
        {
          "output_type": "execute_result",
          "data": {
            "text/plain": [
              "Text(0.5, 0, 'Week')"
            ]
          },
          "metadata": {
            "tags": []
          },
          "execution_count": 5
        },
        {
          "output_type": "display_data",
          "data": {
            "image/png": "[encoded data removed]",
            "text/plain": [
              "<Figure size 1332x324 with 1 Axes>"
            ]
          },
          "metadata": {
            "tags": [],
            "needs_background": "light"
          }
        }
      ]
    },
    {
      "cell_type": "markdown",
      "metadata": {
        "id": "AaKzgZJ25Ba-"
      },
      "source": [
        "## C)"
      ]
    },
    {
      "cell_type": "markdown",
      "metadata": {
        "id": "5fmqQkqA5Ba_"
      },
      "source": [
        "$E(\\lambda)=\\int_{0}^{\\infty} \\lambda P(\\lambda) d\\lambda=\\int_{0}^{\\infty} \\lambda \\alpha e^{-\\alpha\\lambda} d\\lambda$, Define $x:=\\lambda \\alpha \\Rightarrow \\int_{0}^{\\infty} x e^{-x} {dx\\over\\alpha}={1\\over \\alpha}[-e^{-x}(1+x)]_{0}^{\\infty}={1\\over \\alpha}$"
      ]
    },
    {
      "cell_type": "markdown",
      "metadata": {
        "id": "nTD8re-j5Ba_"
      },
      "source": [
        "## d)"
      ]
    },
    {
      "cell_type": "code",
      "metadata": {
        "id": "79K6Adpo5Ba_",
        "colab": {
          "base_uri": "https://localhost:8080/"
        },
        "outputId": "46e09f62-129f-4eb1-fb35-fd4d6c094083"
      },
      "source": [
        "α=1/np.mean(k)\n",
        "print(α)"
      ],
      "execution_count": null,
      "outputs": [
        {
          "output_type": "stream",
          "text": [
            "0.025793650793650796\n"
          ],
          "name": "stdout"
        }
      ]
    },
    {
      "cell_type": "markdown",
      "metadata": {
        "id": "Vq7dlfXa5BbA"
      },
      "source": [
        "## e)"
      ]
    },
    {
      "cell_type": "markdown",
      "metadata": {
        "id": "kOTRhF7i5BbA"
      },
      "source": [
        "We define parameter space as (λ1_est,λ2_est,Ws_est) where we want to compute the posteriors"
      ]
    },
    {
      "cell_type": "code",
      "metadata": {
        "id": "FUBvZ_sL5BbB"
      },
      "source": [
        "λ1_est=np.linspace(25,50,50)\n",
        "λ2_est=np.linspace(25,50,50)\n",
        "Ws_est=np.arange(1,53,1)"
      ],
      "execution_count": null,
      "outputs": []
    },
    {
      "cell_type": "markdown",
      "metadata": {
        "id": "ksHv0CM15BbB"
      },
      "source": [
        "In the definition of the parameter space we assumed that the posterior of λ1 and λ2 are zero beyond the range of (25,50). Now go ahead and make a meshgrid to find the coordinate of every single point in the parameter space."
      ]
    },
    {
      "cell_type": "code",
      "metadata": {
        "id": "l8xXyNPL5BbB"
      },
      "source": [
        "λ1_est_mesh,λ2_est_mesh, Ws_est_mesh,=np.meshgrid(λ1_est,λ2_est,Ws_est)"
      ],
      "execution_count": null,
      "outputs": []
    },
    {
      "cell_type": "markdown",
      "metadata": {
        "id": "Fe5qrNbO5BbB"
      },
      "source": [
        "Let's check the shape of λ1_est_mesh:"
      ]
    },
    {
      "cell_type": "code",
      "metadata": {
        "id": "Zz0gdBwC5BbC",
        "colab": {
          "base_uri": "https://localhost:8080/"
        },
        "outputId": "915e8587-8662-43d8-95b0-52ea8fcac447"
      },
      "source": [
        "λ1_est_mesh.shape"
      ],
      "execution_count": null,
      "outputs": [
        {
          "output_type": "execute_result",
          "data": {
            "text/plain": [
              "(50, 50, 52)"
            ]
          },
          "metadata": {
            "tags": []
          },
          "execution_count": 9
        }
      ]
    },
    {
      "cell_type": "markdown",
      "metadata": {
        "id": "tvYvDe0h5BbC"
      },
      "source": [
        "## f)"
      ]
    },
    {
      "cell_type": "code",
      "metadata": {
        "id": "gOjix7cI5BbC"
      },
      "source": [
        "Poisson=lambda k,λ: (λ**k)*np.exp(-λ)/np.math.factorial(k)\n",
        "Poisson=np.vectorize(Poisson)"
      ],
      "execution_count": null,
      "outputs": []
    },
    {
      "cell_type": "markdown",
      "metadata": {
        "id": "Y24b1lYv5BbC"
      },
      "source": [
        "Unnormalized posterior function can be written as a product of priors and likelihoods. We should be careful that likelihood also depends on the value of W_s."
      ]
    },
    {
      "cell_type": "code",
      "metadata": {
        "id": "6vGm_2Oh5BbD"
      },
      "source": [
        "def Posterior(lamb1,lamb2,W_s):    \n",
        "    P=1\n",
        "    for i in k[w<W_s]:\n",
        "        \n",
        "        P=P*Poisson(i, lamb1)*α*np.exp(-α*lamb1)\n",
        "        \n",
        "    for j in k[w>=W_s]:\n",
        "        \n",
        "        P=P*Poisson(j, lamb2)*α*np.exp(-α*lamb2)\n",
        "    return(P)"
      ],
      "execution_count": null,
      "outputs": []
    },
    {
      "cell_type": "code",
      "metadata": {
        "id": "FYT0tRgy5BbD"
      },
      "source": [
        "Posterior=np.vectorize(Posterior)"
      ],
      "execution_count": null,
      "outputs": []
    },
    {
      "cell_type": "markdown",
      "metadata": {
        "id": "I8cZJQi15BbD"
      },
      "source": [
        "Let's get the posterior for all the data points in the parameter space."
      ]
    },
    {
      "cell_type": "code",
      "metadata": {
        "id": "pzEi-1oq5BbD"
      },
      "source": [
        "Post=Posterior(λ1_est_mesh, λ2_est_mesh, Ws_est_mesh)"
      ],
      "execution_count": null,
      "outputs": []
    },
    {
      "cell_type": "markdown",
      "metadata": {
        "id": "ilncoFR75BbE"
      },
      "source": [
        "Now, we can get marginalized posteior for each parameter by summing up the posterior over two other parameters. "
      ]
    },
    {
      "cell_type": "code",
      "metadata": {
        "id": "LFIKhK7Y5BbE",
        "colab": {
          "base_uri": "https://localhost:8080/"
        },
        "outputId": "3574724d-f66a-4cc3-c161-6ac9e4ef3e03"
      },
      "source": [
        "# Post_λ1=np.sum(np.sum(Post,axis=2).T,axis=1)/np.trapz(np.sum(np.sum(Post,axis=2).T,axis=1),λ1_est)\n",
        "# Post_λ2=np.sum(np.sum(Post,axis=2),axis=1)/np.trapz(np.sum(np.sum(Post,axis=2),axis=1),λ2_est)\n",
        "\n",
        "print(Posterior(40, 30, 15))\n",
        "print(Posterior(30, 40, 15))"
      ],
      "execution_count": null,
      "outputs": [
        {
          "output_type": "stream",
          "text": [
            "3.861063798568467e-199\n",
            "7.229302464560475e-187\n"
          ],
          "name": "stdout"
        }
      ]
    },
    {
      "cell_type": "markdown",
      "metadata": {
        "id": "v4Xr4ouB5BbE"
      },
      "source": [
        "Go ahead and plot the data"
      ]
    },
    {
      "cell_type": "code",
      "metadata": {
        "id": "kxZxMO1R5BbE",
        "outputId": "c59dcd7d-0af7-47ba-ae42-905cb6b29153"
      },
      "source": [
        "plt.figure(figsize=(8,6))\n",
        "plt.plot(λ1_est,Post_λ1,label='$\\lambda_1$')\n",
        "plt.plot(λ2_est,Post_λ2,label='$\\lambda_2$')\n",
        "plt.text(λ1_est[np.argmax(Post_λ1)],np.max(Post_λ1),'λ1(mode)={:0.2f}'.format(λ1_est[np.argmax(Post_λ1)]),fontsize=15)\n",
        "plt.text(λ2_est[np.argmax(Post_λ2)],np.max(Post_λ2),'λ2(mode)={:0.2f}'.format(λ2_est[np.argmax(Post_λ2)]),fontsize=15)\n",
        "plt.ylim(-0.01,0.4)\n",
        "plt.xlabel('$\\lambda$',fontsize=15)\n",
        "plt.ylabel('$P(λ|data)$',fontsize=15)\n",
        "plt.show()"
      ],
      "execution_count": null,
      "outputs": [
        {
          "output_type": "display_data",
          "data": {
            "image/png": "[encoded data removed]",
            "text/plain": [
              "<Figure size 576x432 with 1 Axes>"
            ]
          },
          "metadata": {
            "tags": [],
            "needs_background": "light"
          }
        }
      ]
    },
    {
      "cell_type": "markdown",
      "metadata": {
        "id": "w3lXOrV35BbF"
      },
      "source": [
        "It seems that the difference of λ1 and λ2 are significant. Let's find when did this sudden change happen in Bob's tweeting habit."
      ]
    },
    {
      "cell_type": "code",
      "metadata": {
        "id": "HNFe2MiF5BbF",
        "outputId": "6c8ad094-1536-45db-d2a6-809ab0d93001"
      },
      "source": [
        "plt.figure(figsize=(8,4))\n",
        "Post_Ws=np.sum(np.sum(Post,axis=1),axis=0)/np.trapz(np.sum(np.sum(Post,axis=1),axis=0),Ws_est)\n",
        "plt.xlabel('$W_s$',fontsize=15)\n",
        "plt.ylabel('$P(W_s|data)$',fontsize=15)\n",
        "plt.bar(Ws_est,Post_Ws)"
      ],
      "execution_count": null,
      "outputs": [
        {
          "output_type": "execute_result",
          "data": {
            "text/plain": [
              "<BarContainer object of 52 artists>"
            ]
          },
          "metadata": {
            "tags": []
          },
          "execution_count": 238
        },
        {
          "output_type": "display_data",
          "data": {
            "image/png": "[encoded data removed]",
            "text/plain": [
              "<Figure size 576x288 with 1 Axes>"
            ]
          },
          "metadata": {
            "tags": [],
            "needs_background": "light"
          }
        }
      ]
    },
    {
      "cell_type": "markdown",
      "metadata": {
        "id": "E5tf4tUo5BbF"
      },
      "source": [
        "Let's find the peak of the Ws posterior:"
      ]
    },
    {
      "cell_type": "code",
      "metadata": {
        "id": "fJQCsF9G5BbF",
        "outputId": "26d5b34b-de36-47bc-b29e-786628a8a546"
      },
      "source": [
        "print(Ws_est[np.argmax(Post_Ws)])"
      ],
      "execution_count": null,
      "outputs": [
        {
          "output_type": "stream",
          "text": [
            "38\n"
          ],
          "name": "stdout"
        }
      ]
    },
    {
      "cell_type": "markdown",
      "metadata": {
        "id": "u7qz6GGN5BbG"
      },
      "source": [
        "So, most likely his tweeting habit changed at week 38."
      ]
    },
    {
      "cell_type": "markdown",
      "metadata": {
        "id": "WsMJQCgK5BbG"
      },
      "source": [
        "## g)"
      ]
    },
    {
      "cell_type": "markdown",
      "metadata": {
        "id": "4yk4jnI-5BbG"
      },
      "source": [
        "Let's get the joint probability distribution for λ1 and λ2"
      ]
    },
    {
      "cell_type": "code",
      "metadata": {
        "id": "HKxBx28k5BbG"
      },
      "source": [
        "P_joint=np.sum(Post,axis=2)"
      ],
      "execution_count": null,
      "outputs": []
    },
    {
      "cell_type": "markdown",
      "metadata": {
        "id": "aE6PSCDe5BbH"
      },
      "source": [
        "And, plot it. I also plotted a white line which shows a boundary where all the points above the line satisfy $(\\lambda_2-\\lambda_1)>5$"
      ]
    },
    {
      "cell_type": "code",
      "metadata": {
        "id": "LBBH-grn5BbI",
        "outputId": "73eb440b-5486-446c-dfd6-66b20b50ca23"
      },
      "source": [
        "plt.figure(figsize=(8,8))\n",
        "plt.imshow(P_joint,extent=[min(λ2_est),max(λ2_est),min(λ1_est),max(λ1_est)],origin='lower')\n",
        "plt.xlabel(\"$\\lambda_1$\",fontsize=20)\n",
        "plt.ylabel(\"$\\lambda_2$\",fontsize=20)\n",
        "\n",
        "f=lambda x:x+5\n",
        "plt.plot(λ1_est,f(λ1_est),linewidth=3,c='white')\n",
        "\n",
        "plt.xlim(25,50)\n",
        "plt.ylim(25,50)\n",
        "plt.show()\n"
      ],
      "execution_count": null,
      "outputs": [
        {
          "output_type": "display_data",
          "data": {
            "image/png": "[encoded data removed]",
            "text/plain": [
              "<Figure size 576x576 with 1 Axes>"
            ]
          },
          "metadata": {
            "tags": [],
            "needs_background": "light"
          }
        }
      ]
    },
    {
      "cell_type": "markdown",
      "metadata": {
        "id": "czfLcOZW5BbI"
      },
      "source": [
        "To get $P[(\\lambda_2-\\lambda_1)>5]$ sum up all the values of posterior above the white line and divide it by the value of all the points in the joint probability"
      ]
    },
    {
      "cell_type": "code",
      "metadata": {
        "id": "reufR6SR5BbJ"
      },
      "source": [
        "P_above_white_line=0\n",
        "for i,λ1 in enumerate(λ1_est):\n",
        "    for j,λ2 in enumerate(λ2_est):\n",
        "        if (λ2-λ1)>5:\n",
        "            P_above_white_line+=P_joint[j,i]          "
      ],
      "execution_count": null,
      "outputs": []
    },
    {
      "cell_type": "code",
      "metadata": {
        "id": "u4FtH7fA5BbJ",
        "outputId": "c4b1f9fa-10e3-41da-d553-c250f9718567"
      },
      "source": [
        "Probability=P_above_white_line/np.sum(P_joint)\n",
        "print(Probability)"
      ],
      "execution_count": null,
      "outputs": [
        {
          "output_type": "stream",
          "text": [
            "0.627288368145252\n"
          ],
          "name": "stdout"
        }
      ]
    },
    {
      "cell_type": "markdown",
      "metadata": {
        "id": "f_w0i3b65BbN"
      },
      "source": [
        "So, $P[(\\lambda_2-\\lambda_1)>5]\\sim 63\\%$"
      ]
    },
    {
      "cell_type": "markdown",
      "metadata": {
        "id": "v4Q7e-CcEoNK"
      },
      "source": [
        "## Problem2:"
      ]
    },
    {
      "cell_type": "markdown",
      "metadata": {
        "id": "xbei2cQZErLL"
      },
      "source": [
        "### Part a)"
      ]
    },
    {
      "cell_type": "code",
      "metadata": {
        "id": "4emA7vOMEubZ"
      },
      "source": [
        "D=np.array([[1.72,-0.58,1.99,1.6,2.72,2.83,5.95,4.75,5.57,9.82],[0.1,0.31,1.54,4.97,2.43,3.59,7.71,7.63,5.6,7.91]])"
      ],
      "execution_count": 3,
      "outputs": []
    },
    {
      "cell_type": "markdown",
      "metadata": {
        "id": "JVgAAUQdE5CS"
      },
      "source": [
        "### Part b)"
      ]
    },
    {
      "cell_type": "code",
      "metadata": {
        "id": "aqwvrEGqE7I9"
      },
      "source": [
        "cov_mat=np.cov(D)\n",
        "eigen_values, eigen_vectors = LA.eig(cov_mat)"
      ],
      "execution_count": 6,
      "outputs": []
    },
    {
      "cell_type": "code",
      "metadata": {
        "colab": {
          "base_uri": "https://localhost:8080/"
        },
        "id": "U0I_wXdrE-vJ",
        "outputId": "cdd24745-2688-4c88-f155-559a1fa13f69"
      },
      "source": [
        "v0 = np.sqrt(eigen_values[0])*eigen_vectors[:,0]\n",
        "v1 =np.sqrt(eigen_values[1])*eigen_vectors[:,1]\n",
        "print(v0)\n",
        "print(v1)"
      ],
      "execution_count": 7,
      "outputs": [
        {
          "output_type": "stream",
          "text": [
            "[-0.89141015  0.86153404]\n",
            "[-2.81297197 -2.91051965]\n"
          ],
          "name": "stdout"
        }
      ]
    },
    {
      "cell_type": "code",
      "metadata": {
        "colab": {
          "base_uri": "https://localhost:8080/",
          "height": 539
        },
        "id": "fIzA4YVBFA33",
        "outputId": "8500c976-a57f-40fa-e4e3-1db2f0ae06d1"
      },
      "source": [
        "fig, ax = plt.subplots(1, 1,  figsize=(8.5,8.5))\n",
        "\n",
        "xmajor = np.arange(-1,11,1)\n",
        "xminor = np.arange(-1,11,0.1)\n",
        "\n",
        "ymajor = np.arange(-1,11,1)\n",
        "yminor = np.arange(-1,11,0.1)\n",
        "\n",
        "ax.set_xticks(xmajor)\n",
        "ax.set_xticks(xminor,minor=True)\n",
        "\n",
        "ax.set_yticks(xmajor)\n",
        "ax.set_yticks(xminor,minor=True)\n",
        "\n",
        "ax.scatter(D[0],D[1],s=50)\n",
        "\n",
        "\n",
        "\n",
        "origin = [np.mean(D[0]), np.mean(D[1])]\n",
        "plt.quiver(*origin, v0[0],v0[1] , color=['b'], scale=12)\n",
        "plt.quiver(*origin, v1[0],v1[1] , color=['r'], scale=12)\n",
        "\n",
        "n=np.arange(10)\n",
        "for i in n:\n",
        "    ax.annotate(str(i+1), (D[0][i], D[1][i]))\n",
        "\n",
        "\n",
        "ax.tick_params(which = 'major',direction='in',right='on',top='on',length=6,width=1.3,labelsize=16)\n",
        "ax.tick_params(which = 'minor',direction='in',right='on',top='on',length=3,width=0.5)\n",
        "ax.set_xlim(-1,10.3)\n",
        "ax.set_ylim(-1,9)\n",
        "\n",
        "\n",
        "ax.set_ylabel('Y',fontsize=20)\n",
        "ax.set_xlabel('X',fontsize=20)\n",
        "\n",
        "ax.tick_params(labelsize=15)\n",
        "plt.show()"
      ],
      "execution_count": 8,
      "outputs": [
        {
          "output_type": "display_data",
          "data": {
            "image/png": "[encoded data removed]",
            "text/plain": [
              "<Figure size 612x612 with 1 Axes>"
            ]
          },
          "metadata": {
            "tags": [],
            "needs_background": "light"
          }
        }
      ]
    },
    {
      "cell_type": "code",
      "metadata": {
        "colab": {
          "base_uri": "https://localhost:8080/"
        },
        "id": "qPFnEd_7FCoD",
        "outputId": "8d86adf0-d526-4f76-c58a-07890c0395f8"
      },
      "source": [
        "M=np.dot(D.T,v1)\n",
        "print(M)"
      ],
      "execution_count": 9,
      "outputs": [
        {
          "output_type": "stream",
          "text": [
            "[ -5.12936375   0.72926265 -10.08001448 -18.96603782 -14.7238465\n",
            " -18.40947622 -39.17728972 -35.56888179 -31.9671639  -50.64559516]\n"
          ],
          "name": "stdout"
        }
      ]
    },
    {
      "cell_type": "code",
      "metadata": {
        "colab": {
          "base_uri": "https://localhost:8080/",
          "height": 112
        },
        "id": "f7GlY1XVFF16",
        "outputId": "34b7bdcb-0a43-4d42-9b74-11d3b355e99c"
      },
      "source": [
        "fig, ax = plt.subplots(1, 1,  figsize=(15.5,1.5))\n",
        "\n",
        "origin=[np.min(M),0] \n",
        "d=[1,0]\n",
        "ax.quiver(*origin, *d, color=['r'], scale=1.3)\n",
        "ax.scatter(M,[0]*10,s=100)\n",
        "\n",
        "for i in n:\n",
        "    ax.annotate(str(i+1), (M[i], 0),fontsize=15)\n",
        "\n",
        "ax.set_ylim(-0.01,0.01)\n",
        "ax.set_xlim(-55,20)\n",
        "ax.axis('off')\n",
        "plt.show()"
      ],
      "execution_count": 10,
      "outputs": [
        {
          "output_type": "display_data",
          "data": {
            "image/png": "[encoded data removed]",
            "text/plain": [
              "<Figure size 1116x108 with 1 Axes>"
            ]
          },
          "metadata": {
            "tags": [],
            "needs_background": "light"
          }
        }
      ]
    },
    {
      "cell_type": "code",
      "metadata": {
        "id": "EXphHltAFZM7"
      },
      "source": [
        ""
      ],
      "execution_count": null,
      "outputs": []
    }
  ]
}